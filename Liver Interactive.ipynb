{
 "cells": [
  {
   "cell_type": "markdown",
   "metadata": {},
   "source": [
    "# Liver Segmentation 2D\n",
    "\n",
    "Python version: 3.4.3 (Anaconda 2.4.1)  \n",
    "IPython version: 4.0.1  \n",
    "SimpleITK version: 0.9.0-g45317  \n",
    "Operating system: OS X El Capitan v10.11.2"
   ]
  },
  {
   "cell_type": "code",
   "execution_count": 1,
   "metadata": {
    "collapsed": true
   },
   "outputs": [],
   "source": [
    "import collections"
   ]
  },
  {
   "cell_type": "code",
   "execution_count": 2,
   "metadata": {
    "collapsed": true
   },
   "outputs": [],
   "source": [
    "import matplotlib"
   ]
  },
  {
   "cell_type": "code",
   "execution_count": 3,
   "metadata": {
    "collapsed": true
   },
   "outputs": [],
   "source": [
    "matplotlib.use('Agg')"
   ]
  },
  {
   "cell_type": "code",
   "execution_count": 4,
   "metadata": {
    "collapsed": true
   },
   "outputs": [],
   "source": [
    "%matplotlib qt"
   ]
  },
  {
   "cell_type": "code",
   "execution_count": 5,
   "metadata": {
    "collapsed": true
   },
   "outputs": [],
   "source": [
    "import matplotlib.pyplot as plt"
   ]
  },
  {
   "cell_type": "code",
   "execution_count": 6,
   "metadata": {
    "collapsed": true
   },
   "outputs": [],
   "source": [
    "import numpy as np"
   ]
  },
  {
   "cell_type": "code",
   "execution_count": 7,
   "metadata": {
    "collapsed": true
   },
   "outputs": [],
   "source": [
    "import os"
   ]
  },
  {
   "cell_type": "code",
   "execution_count": 8,
   "metadata": {
    "collapsed": true
   },
   "outputs": [],
   "source": [
    "import pickle"
   ]
  },
  {
   "cell_type": "code",
   "execution_count": 9,
   "metadata": {
    "collapsed": true
   },
   "outputs": [],
   "source": [
    "import scipy.stats"
   ]
  },
  {
   "cell_type": "code",
   "execution_count": 10,
   "metadata": {
    "collapsed": true
   },
   "outputs": [],
   "source": [
    "import SimpleITK as sitk"
   ]
  },
  {
   "cell_type": "code",
   "execution_count": 11,
   "metadata": {
    "collapsed": true
   },
   "outputs": [],
   "source": [
    "from os.path import expanduser, join"
   ]
  },
  {
   "cell_type": "code",
   "execution_count": 12,
   "metadata": {
    "collapsed": true
   },
   "outputs": [],
   "source": [
    "from scipy.spatial.distance import euclidean"
   ]
  },
  {
   "cell_type": "markdown",
   "metadata": {},
   "source": [
    "---"
   ]
  },
  {
   "cell_type": "code",
   "execution_count": 13,
   "metadata": {
    "collapsed": true
   },
   "outputs": [],
   "source": [
    "def show_img(img, imgover=None):\n",
    "    \"\"\"Displays SimpleITK 2D image from its array. Includes a function to report \n",
    "    the pixel value under the mouse cursor. Option to display image overlay.\"\"\"\n",
    "    X = sitk.GetArrayFromImage(img)\n",
    "    fig = plt.figure()\n",
    "    ax = fig.add_subplot(111)\n",
    "    \n",
    "    def format_coord(x, y):\n",
    "        col = int(x + 0.5)\n",
    "        row = int(y + 0.5)\n",
    "        if col>=0 and col<numcols and row>=0 and row<numrows:\n",
    "            z = X[row, col]\n",
    "            return 'x=%1.4f, y=%1.4f, z=%1.4f' %(x, y, z)\n",
    "        else:\n",
    "            return 'x=%1.4f, y=%1.4f' %(x, y)\n",
    "\n",
    "    if imgover is not None:\n",
    "        X2 = sitk.GetArrayFromImage(imgover)\n",
    "        maskVal = scipy.stats.mode(X2.flatten())[0][0]\n",
    "        Xmask = np.ma.masked_where(X2 == maskVal, X2)\n",
    "        im = ax.imshow(X, cmap=plt.cm.Greys_r)\n",
    "        imOver = ax.imshow(Xmask, alpha=0.5)\n",
    "    else:\n",
    "        numrows, numcols = X.shape\n",
    "        ax.imshow(X, cmap=plt.cm.Greys_r)\n",
    "        ax.format_coord = format_coord\n",
    "    \n",
    "    plt.show()"
   ]
  },
  {
   "cell_type": "code",
   "execution_count": 14,
   "metadata": {
    "collapsed": true
   },
   "outputs": [],
   "source": [
    "def input_level_set_click(featImg, coords):\n",
    "    RADIUS = 10\n",
    "    numCols = featImg.GetSize()[0]\n",
    "    numRows = featImg.GetSize()[1]\n",
    "    X = np.zeros((numRows, numCols), dtype=np.int)\n",
    "    \n",
    "    for pt in coords:\n",
    "        rowIni, rowEnd = pt[1] - RADIUS, pt[1] + RADIUS\n",
    "        colIni, colEnd = pt[0] - RADIUS, pt[0] + RADIUS\n",
    "        for i in range(rowIni, rowEnd+1):\n",
    "            for j in range(colIni, colEnd+1):\n",
    "                if euclidean((i,j), (pt[1], pt[0])) <= RADIUS:\n",
    "                    X[i,j] = 1\n",
    "    \n",
    "    img = sitk.Cast(sitk.GetImageFromArray(X), featImg.GetPixelIDValue()) * -1 + 0.5\n",
    "    img.SetSpacing(featImg.GetSpacing())\n",
    "    img.SetOrigin(featImg.GetOrigin())\n",
    "    img.SetDirection(featImg.GetDirection())\n",
    "    \n",
    "    return img"
   ]
  },
  {
   "cell_type": "code",
   "execution_count": 15,
   "metadata": {
    "collapsed": true
   },
   "outputs": [],
   "source": [
    "class IndexMouseCapture(object):\n",
    "    def __init__(self, ax, X):\n",
    "        self.ax = ax\n",
    "        self.X = X\n",
    "        self.coords = list()\n",
    "        \n",
    "        self.im = ax.imshow(self.X, cmap=plt.cm.Greys_r)\n",
    "        self.im.axes.figure.canvas.draw()\n",
    "\n",
    "    def onclick(self, event):\n",
    "        ix, iy = int(round(event.xdata)), int(round(event.ydata))\n",
    "        self.coords.append((ix, iy))\n",
    "        circ = plt.Circle((ix, iy), 10, color='b')\n",
    "        plt.gcf().gca().add_artist(circ)\n",
    "        self.im.axes.figure.canvas.draw()"
   ]
  },
  {
   "cell_type": "markdown",
   "metadata": {},
   "source": [
    "---"
   ]
  },
  {
   "cell_type": "markdown",
   "metadata": {},
   "source": [
    "## I. Read in DICOM Images\n",
    "\n",
    "Read in a DICOM series:"
   ]
  },
  {
   "cell_type": "code",
   "execution_count": 16,
   "metadata": {
    "collapsed": true
   },
   "outputs": [],
   "source": [
    "dicomPath = join(expanduser('~'), 'Documents', 'SlicerDICOMDatabase', 'TCIALocal', '0', 'images', '')\n",
    "reader = sitk.ImageSeriesReader()\n",
    "seriesIDread = reader.GetGDCMSeriesIDs(dicomPath)[1]\n",
    "dicomFilenames = reader.GetGDCMSeriesFileNames(dicomPath, seriesIDread)\n",
    "reader.SetFileNames(dicomFilenames)\n",
    "imgSeries = reader.Execute()"
   ]
  },
  {
   "cell_type": "markdown",
   "metadata": {},
   "source": [
    "Pick a slice to work with. Only the 2D case is considered here."
   ]
  },
  {
   "cell_type": "code",
   "execution_count": 183,
   "metadata": {
    "collapsed": true
   },
   "outputs": [],
   "source": [
    "sliceNum = 50"
   ]
  },
  {
   "cell_type": "code",
   "execution_count": 184,
   "metadata": {
    "collapsed": true
   },
   "outputs": [],
   "source": [
    "imgSlice = imgSeries[:,:,sliceNum]"
   ]
  },
  {
   "cell_type": "markdown",
   "metadata": {},
   "source": [
    "Note that the TCGA-BC-4073 patient has 2 series of images (series 9 & 10). The series IDs are:"
   ]
  },
  {
   "cell_type": "code",
   "execution_count": 17,
   "metadata": {
    "collapsed": false
   },
   "outputs": [
    {
     "data": {
      "text/plain": [
       "('1.3.6.1.4.1.14519.5.2.1.8421.4008.138804327531308458796105931925',\n",
       " '1.3.6.1.4.1.14519.5.2.1.8421.4008.409273914557307131521893097931')"
      ]
     },
     "execution_count": 17,
     "metadata": {},
     "output_type": "execute_result"
    }
   ],
   "source": [
    "reader.GetGDCMSeriesIDs(dicomPath)"
   ]
  },
  {
   "cell_type": "markdown",
   "metadata": {},
   "source": [
    "The 2<sup>nd</sup> tuple element corresponds to series 9."
   ]
  },
  {
   "cell_type": "code",
   "execution_count": 27,
   "metadata": {
    "collapsed": true
   },
   "outputs": [],
   "source": [
    "show_img(imgSlice)"
   ]
  },
  {
   "cell_type": "markdown",
   "metadata": {},
   "source": [
    "## II. Filtering\n",
    "\n",
    "Two options for filtering are used here: either curvature anisotropic diffusion or mean filtering. \n",
    "\n",
    "### Curvature anisotropic diffusion"
   ]
  },
  {
   "cell_type": "code",
   "execution_count": 185,
   "metadata": {
    "collapsed": false
   },
   "outputs": [],
   "source": [
    "timeStep_, conduct, numIter = (0.04, 9.0, 5)\n",
    "imgRecast = sitk.Cast(imgSlice, sitk.sitkFloat32)\n",
    "curvDiff = sitk.CurvatureAnisotropicDiffusionImageFilter()\n",
    "curvDiff.SetTimeStep(timeStep_)\n",
    "curvDiff.SetConductanceParameter(conduct)\n",
    "curvDiff.SetNumberOfIterations(numIter)\n",
    "imgFilter = curvDiff.Execute(imgRecast)"
   ]
  },
  {
   "cell_type": "code",
   "execution_count": 306,
   "metadata": {
    "collapsed": true
   },
   "outputs": [],
   "source": [
    "show_img(imgFilter)"
   ]
  },
  {
   "cell_type": "markdown",
   "metadata": {},
   "source": [
    "### Mean filtering"
   ]
  },
  {
   "cell_type": "code",
   "execution_count": 150,
   "metadata": {
    "collapsed": false
   },
   "outputs": [],
   "source": [
    "imgFilter = sitk.Mean(image1=imgSlice, radius=(3,3))"
   ]
  },
  {
   "cell_type": "code",
   "execution_count": 130,
   "metadata": {
    "collapsed": true
   },
   "outputs": [],
   "source": [
    "show_img(imgFilter)"
   ]
  },
  {
   "cell_type": "markdown",
   "metadata": {},
   "source": [
    "## III. Edge Potential\n",
    "\n",
    "### Gradient magnitude recursive Gaussian"
   ]
  },
  {
   "cell_type": "code",
   "execution_count": 194,
   "metadata": {
    "collapsed": false
   },
   "outputs": [],
   "source": [
    "sigma_ = 1.0\n",
    "imgGauss = sitk.GradientMagnitudeRecursiveGaussian(image1=imgFilter, sigma=sigma_)"
   ]
  },
  {
   "cell_type": "code",
   "execution_count": 548,
   "metadata": {
    "collapsed": true
   },
   "outputs": [],
   "source": [
    "show_img(imgGauss)"
   ]
  },
  {
   "cell_type": "markdown",
   "metadata": {},
   "source": [
    "## IV. Feature Image\n",
    "\n",
    "### Sigmoid mapping"
   ]
  },
  {
   "cell_type": "code",
   "execution_count": 195,
   "metadata": {
    "collapsed": true
   },
   "outputs": [],
   "source": [
    "K1, K2 = 8.0, 4.0"
   ]
  },
  {
   "cell_type": "code",
   "execution_count": 196,
   "metadata": {
    "collapsed": true
   },
   "outputs": [],
   "source": [
    "alpha_ = (K2 - K1)/6\n",
    "beta_ = (K1 + K2)/2\n",
    "\n",
    "sigFilt = sitk.SigmoidImageFilter()\n",
    "sigFilt.SetAlpha(alpha_)\n",
    "sigFilt.SetBeta(beta_)\n",
    "sigFilt.SetOutputMaximum(1.0)\n",
    "sigFilt.SetOutputMinimum(0.0)\n",
    "imgSigmoid = sigFilt.Execute(imgGauss)"
   ]
  },
  {
   "cell_type": "code",
   "execution_count": 180,
   "metadata": {
    "collapsed": false
   },
   "outputs": [],
   "source": [
    "show_img(imgSigmoid)"
   ]
  },
  {
   "cell_type": "markdown",
   "metadata": {},
   "source": [
    "## V. Input Level Set\n",
    "\n",
    "Use the class *IndexMouseCapture* (defined above) to capture coordinates from mouse clicks for seeds. The radii are all assumed to be of the same size at the moment."
   ]
  },
  {
   "cell_type": "code",
   "execution_count": 48,
   "metadata": {
    "collapsed": false
   },
   "outputs": [
    {
     "data": {
      "text/plain": [
       "6"
      ]
     },
     "execution_count": 48,
     "metadata": {},
     "output_type": "execute_result"
    }
   ],
   "source": [
    "X = sitk.GetArrayFromImage(imgSigmoid)\n",
    "\n",
    "fig = plt.figure()\n",
    "ax = fig.add_subplot(111)\n",
    "capture = IndexMouseCapture(ax, X)\n",
    "fig.canvas.mpl_connect('button_press_event', capture.onclick)"
   ]
  },
  {
   "cell_type": "code",
   "execution_count": 197,
   "metadata": {
    "collapsed": false
   },
   "outputs": [],
   "source": [
    "coords = pickle.load(open(os.path.join('Liver Segmentation Data', 'TCGA-BC-4073', 'slice50_2nd_round_seeds.p'), 'rb'))"
   ]
  },
  {
   "cell_type": "code",
   "execution_count": 198,
   "metadata": {
    "collapsed": true
   },
   "outputs": [],
   "source": [
    "initImg = input_level_set_click(imgSigmoid, coords)"
   ]
  },
  {
   "cell_type": "code",
   "execution_count": 32,
   "metadata": {
    "collapsed": true
   },
   "outputs": [],
   "source": [
    "pickleDir = os.path.join('Liver Segmentation Data', 'TCGA-BC-4073', '')"
   ]
  },
  {
   "cell_type": "code",
   "execution_count": 33,
   "metadata": {
    "collapsed": false
   },
   "outputs": [],
   "source": [
    "pickle.dump(capture.coords, open(pickleDir + 'slice51_1st_round_seeds.p', 'wb'))"
   ]
  },
  {
   "cell_type": "markdown",
   "metadata": {},
   "source": [
    "For subsequent rounds, create a new level set from segmentation of downsampled image. Start by converting the segmentation result into a workable format:"
   ]
  },
  {
   "cell_type": "code",
   "execution_count": 193,
   "metadata": {
    "collapsed": true
   },
   "outputs": [],
   "source": [
    "binaryThresh = sitk.BinaryThresholdImageFilter()\n",
    "binaryThresh.SetLowerThreshold(-3.0)\n",
    "binaryThresh.SetUpperThreshold(2.0)\n",
    "binaryThresh.SetInsideValue(1)\n",
    "binaryThresh.SetOutsideValue(0)\n",
    "binaryImg = binaryThresh.Execute(imgGac)"
   ]
  },
  {
   "cell_type": "code",
   "execution_count": 228,
   "metadata": {
    "collapsed": true
   },
   "outputs": [],
   "source": [
    "show_img(binaryImg)"
   ]
  },
  {
   "cell_type": "markdown",
   "metadata": {},
   "source": [
    "Add in new seeds using *IndexMouseCapture* above, and then create a new input level set image:"
   ]
  },
  {
   "cell_type": "code",
   "execution_count": 199,
   "metadata": {
    "collapsed": false
   },
   "outputs": [],
   "source": [
    "# get array from previous geodesic active contour\n",
    "X_gac = sitk.GetArrayFromImage(binaryImg)\n",
    "\n",
    "# get array from user-input seed clicks\n",
    "X_click = sitk.GetArrayFromImage(input_level_set_click(imgSigmoid, coords))\n",
    "X_click[np.where(X_click == -0.5)] = 1.0\n",
    "X_click[np.where(X_click == 0.5)] = 0.0\n",
    "\n",
    "# combine into a single array\n",
    "X_input = X_gac.astype(bool) + X_click.astype(bool)\n",
    "\n",
    "# write array into new input level set\n",
    "initImg = sitk.Cast(sitk.GetImageFromArray(X_input.astype(int)), imgSigmoid.GetPixelIDValue()) * -1 + 0.5\n",
    "initImg.SetSpacing(imgSigmoid.GetSpacing())\n",
    "initImg.SetOrigin(imgSigmoid.GetOrigin())\n",
    "initImg.SetDirection(imgSigmoid.GetDirection())"
   ]
  },
  {
   "cell_type": "markdown",
   "metadata": {
    "collapsed": true
   },
   "source": [
    "### Import manual initial level set\n",
    "\n",
    "If desired, import an initial level set drawn close to boundaries of liver in 3D Slicer. All values inside the set are equal to 1, while any outside values are zero. "
   ]
  },
  {
   "cell_type": "code",
   "execution_count": 187,
   "metadata": {
    "collapsed": false
   },
   "outputs": [],
   "source": [
    "manInLS = sitk.ReadImage(os.path.join('Liver Segmentation Data', 'TCGA-BC-4073', \n",
    "                                          'slice44_initial_level_set.nrrd'))\n",
    "X_man = sitk.GetArrayFromImage(manInLS[:,:,44])"
   ]
  },
  {
   "cell_type": "markdown",
   "metadata": {},
   "source": [
    "Create initial level set image for input into segmentation:"
   ]
  },
  {
   "cell_type": "code",
   "execution_count": 188,
   "metadata": {
    "collapsed": true
   },
   "outputs": [],
   "source": [
    "initImg = sitk.Cast(sitk.GetImageFromArray(X_man), imgSigmoid.GetPixelIDValue()) * -1 + 0.5\n",
    "initImg.CopyInformation(imgSigmoid)"
   ]
  },
  {
   "cell_type": "markdown",
   "metadata": {},
   "source": [
    "Display the initial input level set:"
   ]
  },
  {
   "cell_type": "code",
   "execution_count": 70,
   "metadata": {
    "collapsed": false
   },
   "outputs": [],
   "source": [
    "show_img(imgSigmoid, initImg)"
   ]
  },
  {
   "cell_type": "markdown",
   "metadata": {},
   "source": [
    "## VI. Segmentation\n",
    "\n",
    "### Geodesic active contour"
   ]
  },
  {
   "cell_type": "code",
   "execution_count": 200,
   "metadata": {
    "collapsed": false
   },
   "outputs": [
    {
     "data": {
      "text/plain": [
       "<SimpleITK.SimpleITK.GeodesicActiveContourLevelSetImageFilter; proxy of <Swig Object of type 'itk::simple::GeodesicActiveContourLevelSetImageFilter::Self *' at 0x12412d690> >"
      ]
     },
     "execution_count": 200,
     "metadata": {},
     "output_type": "execute_result"
    }
   ],
   "source": [
    "gac = sitk.GeodesicActiveContourLevelSetImageFilter()\n",
    "gac.SetPropagationScaling(1.0)\n",
    "gac.SetCurvatureScaling(0.5)\n",
    "gac.SetAdvectionScaling(3.5)\n",
    "gac.SetMaximumRMSError(0.01)\n",
    "gac.SetNumberOfIterations(100)"
   ]
  },
  {
   "cell_type": "code",
   "execution_count": 201,
   "metadata": {
    "collapsed": false
   },
   "outputs": [],
   "source": [
    "imgGac = gac.Execute(initImg, imgSigmoid)"
   ]
  },
  {
   "cell_type": "code",
   "execution_count": 134,
   "metadata": {
    "collapsed": false
   },
   "outputs": [],
   "source": [
    "show_img(imgSigmoid, imgGac)"
   ]
  },
  {
   "cell_type": "markdown",
   "metadata": {},
   "source": [
    "### Import manual label map\n",
    "\n",
    "If desired, import a manual segmentation from 3D Slicer instead. "
   ]
  },
  {
   "cell_type": "code",
   "execution_count": 202,
   "metadata": {
    "collapsed": true
   },
   "outputs": [],
   "source": [
    "manLabelMap = sitk.ReadImage(os.path.join('Liver Segmentation Data', 'TCGA-BC-4073', \n",
    "                                          'slice50_partial_manual.nrrd'))\n",
    "X_man = sitk.GetArrayFromImage(manLabelMap[:,:,50])"
   ]
  },
  {
   "cell_type": "code",
   "execution_count": 165,
   "metadata": {
    "collapsed": false
   },
   "outputs": [
    {
     "data": {
      "text/plain": [
       "(512, 384, 72)"
      ]
     },
     "execution_count": 165,
     "metadata": {},
     "output_type": "execute_result"
    }
   ],
   "source": [
    "manLabelMap.GetSize()"
   ]
  },
  {
   "cell_type": "code",
   "execution_count": 1080,
   "metadata": {
    "collapsed": true
   },
   "outputs": [],
   "source": [
    "show_img(manLabelMap[:,:,48])"
   ]
  },
  {
   "cell_type": "markdown",
   "metadata": {},
   "source": [
    "If needed, combine manual label map with segmentation from above:"
   ]
  },
  {
   "cell_type": "code",
   "execution_count": 203,
   "metadata": {
    "collapsed": false
   },
   "outputs": [],
   "source": [
    "X_gac = sitk.GetArrayFromImage(imgGac)"
   ]
  },
  {
   "cell_type": "code",
   "execution_count": 212,
   "metadata": {
    "collapsed": true
   },
   "outputs": [],
   "source": [
    "X_bool = X_gac < np.amax(X_gac)\n",
    "X_final = X_man.astype(bool) + X_bool\n",
    "X_final = X_final.astype(int)"
   ]
  },
  {
   "cell_type": "code",
   "execution_count": 216,
   "metadata": {
    "collapsed": true
   },
   "outputs": [],
   "source": [
    "show_img(imgSlice, sitk.GetImageFromArray(X_final))"
   ]
  },
  {
   "cell_type": "markdown",
   "metadata": {},
   "source": [
    "### Fill in holes\n",
    "\n",
    "If necessary, fill in holes in the segmentation."
   ]
  },
  {
   "cell_type": "code",
   "execution_count": 209,
   "metadata": {
    "collapsed": true
   },
   "outputs": [],
   "source": [
    "X_gac = sitk.GetArrayFromImage(imgGac)"
   ]
  },
  {
   "cell_type": "code",
   "execution_count": 222,
   "metadata": {
    "collapsed": false
   },
   "outputs": [],
   "source": [
    "plt.imshow(X_final)\n",
    "plt.show()"
   ]
  },
  {
   "cell_type": "code",
   "execution_count": 218,
   "metadata": {
    "collapsed": false
   },
   "outputs": [],
   "source": [
    "X_final[218:251,131:180] = 1"
   ]
  },
  {
   "cell_type": "markdown",
   "metadata": {
    "collapsed": true
   },
   "source": [
    "## VII. Write out to file\n",
    "\n",
    "If needed, binarize segmentation image:"
   ]
  },
  {
   "cell_type": "code",
   "execution_count": 196,
   "metadata": {
    "collapsed": true
   },
   "outputs": [],
   "source": [
    "X_gac = sitk.GetArrayFromImage(imgGac)"
   ]
  },
  {
   "cell_type": "code",
   "execution_count": 197,
   "metadata": {
    "collapsed": true
   },
   "outputs": [],
   "source": [
    "X_bool = X_gac < np.amax(X_gac)\n",
    "X_final = X_bool.astype(int)"
   ]
  },
  {
   "cell_type": "code",
   "execution_count": 220,
   "metadata": {
    "collapsed": true
   },
   "outputs": [],
   "source": [
    "show_img(imgSlice, sitk.GetImageFromArray(X_final))"
   ]
  },
  {
   "cell_type": "markdown",
   "metadata": {},
   "source": [
    "Save array representation of segmented image in NumPy format:"
   ]
  },
  {
   "cell_type": "code",
   "execution_count": 221,
   "metadata": {
    "collapsed": false
   },
   "outputs": [],
   "source": [
    "np.save(os.path.join('Liver Segmentation Data', 'TCGA-BC-4073', 'slice50'), X_final)"
   ]
  },
  {
   "cell_type": "code",
   "execution_count": null,
   "metadata": {
    "collapsed": true
   },
   "outputs": [],
   "source": []
  }
 ],
 "metadata": {
  "kernelspec": {
   "display_name": "Python 3",
   "language": "python",
   "name": "python3"
  },
  "language_info": {
   "codemirror_mode": {
    "name": "ipython",
    "version": 3
   },
   "file_extension": ".py",
   "mimetype": "text/x-python",
   "name": "python",
   "nbconvert_exporter": "python",
   "pygments_lexer": "ipython3",
   "version": "3.4.3"
  }
 },
 "nbformat": 4,
 "nbformat_minor": 0
}
