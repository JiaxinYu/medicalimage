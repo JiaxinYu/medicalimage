{
 "cells": [
  {
   "cell_type": "code",
   "execution_count": 1,
   "metadata": {
    "collapsed": true
   },
   "outputs": [],
   "source": [
    "import collections"
   ]
  },
  {
   "cell_type": "code",
   "execution_count": 2,
   "metadata": {
    "collapsed": true
   },
   "outputs": [],
   "source": [
    "import matplotlib"
   ]
  },
  {
   "cell_type": "code",
   "execution_count": 3,
   "metadata": {
    "collapsed": true
   },
   "outputs": [],
   "source": [
    "matplotlib.use('Agg')"
   ]
  },
  {
   "cell_type": "code",
   "execution_count": 4,
   "metadata": {
    "collapsed": true
   },
   "outputs": [],
   "source": [
    "%matplotlib qt"
   ]
  },
  {
   "cell_type": "code",
   "execution_count": 5,
   "metadata": {
    "collapsed": true
   },
   "outputs": [],
   "source": [
    "import matplotlib.pyplot as plt"
   ]
  },
  {
   "cell_type": "code",
   "execution_count": 6,
   "metadata": {
    "collapsed": true
   },
   "outputs": [],
   "source": [
    "import numpy as np"
   ]
  },
  {
   "cell_type": "code",
   "execution_count": 7,
   "metadata": {
    "collapsed": true
   },
   "outputs": [],
   "source": [
    "import os"
   ]
  },
  {
   "cell_type": "code",
   "execution_count": 8,
   "metadata": {
    "collapsed": true
   },
   "outputs": [],
   "source": [
    "import pickle"
   ]
  },
  {
   "cell_type": "code",
   "execution_count": 9,
   "metadata": {
    "collapsed": true
   },
   "outputs": [],
   "source": [
    "import scipy.stats"
   ]
  },
  {
   "cell_type": "code",
   "execution_count": 10,
   "metadata": {
    "collapsed": true
   },
   "outputs": [],
   "source": [
    "import SimpleITK as sitk"
   ]
  },
  {
   "cell_type": "code",
   "execution_count": 11,
   "metadata": {
    "collapsed": true
   },
   "outputs": [],
   "source": [
    "from os.path import expanduser, join"
   ]
  },
  {
   "cell_type": "code",
   "execution_count": 12,
   "metadata": {
    "collapsed": true
   },
   "outputs": [],
   "source": [
    "from scipy.spatial.distance import euclidean"
   ]
  },
  {
   "cell_type": "markdown",
   "metadata": {},
   "source": [
    "---"
   ]
  },
  {
   "cell_type": "code",
   "execution_count": 13,
   "metadata": {
    "collapsed": true
   },
   "outputs": [],
   "source": [
    "def show_img(img, imgover=None):\n",
    "    \"\"\"Displays SimpleITK 2D image from its array. Includes a function to report \n",
    "    the pixel value under the mouse cursor. Option to display image overlay.\"\"\"\n",
    "    X = sitk.GetArrayFromImage(img)\n",
    "    fig = plt.figure()\n",
    "    ax = fig.add_subplot(111)\n",
    "    \n",
    "    def format_coord(x, y):\n",
    "        col = int(x + 0.5)\n",
    "        row = int(y + 0.5)\n",
    "        if col>=0 and col<numcols and row>=0 and row<numrows:\n",
    "            z = X[row, col]\n",
    "            return 'x=%1.4f, y=%1.4f, z=%1.4f' %(x, y, z)\n",
    "        else:\n",
    "            return 'x=%1.4f, y=%1.4f' %(x, y)\n",
    "\n",
    "    if imgover is not None:\n",
    "        X2 = sitk.GetArrayFromImage(imgover)\n",
    "        maskVal = scipy.stats.mode(X2.flatten())[0][0]\n",
    "        Xmask = np.ma.masked_where(X2 == maskVal, X2)\n",
    "        im = ax.imshow(X, cmap=plt.cm.Greys_r)\n",
    "        imOver = ax.imshow(Xmask, alpha=0.5)\n",
    "    else:\n",
    "        numrows, numcols = X.shape\n",
    "        ax.imshow(X, cmap=plt.cm.Greys_r)\n",
    "        ax.format_coord = format_coord\n",
    "    \n",
    "    plt.show()"
   ]
  },
  {
   "cell_type": "code",
   "execution_count": 14,
   "metadata": {
    "collapsed": true
   },
   "outputs": [],
   "source": [
    "def input_level_set_click(featImg, coords):\n",
    "    RADIUS = 10\n",
    "    numCols = featImg.GetSize()[0]\n",
    "    numRows = featImg.GetSize()[1]\n",
    "    X = np.zeros((numRows, numCols), dtype=np.int)\n",
    "    \n",
    "    for pt in coords:\n",
    "        rowIni, rowEnd = pt[1] - RADIUS, pt[1] + RADIUS\n",
    "        colIni, colEnd = pt[0] - RADIUS, pt[0] + RADIUS\n",
    "        for i in range(rowIni, rowEnd+1):\n",
    "            for j in range(colIni, colEnd+1):\n",
    "                if euclidean((i,j), (pt[1], pt[0])) <= RADIUS:\n",
    "                    X[i,j] = 1\n",
    "    \n",
    "    img = sitk.Cast(sitk.GetImageFromArray(X), featImg.GetPixelIDValue()) * -1 + 0.5\n",
    "    img.SetSpacing(featImg.GetSpacing())\n",
    "    img.SetOrigin(featImg.GetOrigin())\n",
    "    img.SetDirection(featImg.GetDirection())\n",
    "    \n",
    "    return img"
   ]
  },
  {
   "cell_type": "code",
   "execution_count": 15,
   "metadata": {
    "collapsed": true
   },
   "outputs": [],
   "source": [
    "class IndexMouseCapture(object):\n",
    "    def __init__(self, ax, X):\n",
    "        self.ax = ax\n",
    "        self.X = X\n",
    "        self.coords = list()\n",
    "        \n",
    "        self.im = ax.imshow(self.X, cmap=plt.cm.Greys_r)\n",
    "        self.im.axes.figure.canvas.draw()\n",
    "\n",
    "    def onclick(self, event):\n",
    "        ix, iy = int(round(event.xdata)), int(round(event.ydata))\n",
    "        self.coords.append((ix, iy))\n",
    "        circ = plt.Circle((ix, iy), 10, color='b')\n",
    "        plt.gcf().gca().add_artist(circ)\n",
    "        self.im.axes.figure.canvas.draw()"
   ]
  },
  {
   "cell_type": "markdown",
   "metadata": {},
   "source": [
    "---\n",
    "\n",
    "# Notes\n",
    "\n",
    "*Slice 40*  \n",
    "* 1<sup>st</sup> round: gradient magnitude recursive Gaussian &sigma; = 2.0; sigmoid mapping K1 = 20.0, K2 = 8.0; geodesic active contour advection = 4.5, iterations = 200.\n",
    "* 2<sup>nd</sup> round: gradient magnitude recursive Gaussian &sigma; = 1.0; sigmoid mapping K1 = 10.0, K2 = 4.0; geodesic active contour advection = 5.0, iterations = 250. \n",
    "\n",
    "*Slice 41*  \n",
    "* 1<sup>st</sup> round: gradient magnitude recursive Gaussian &sigma; = 2.0; sigmoid mapping K1 = 20.0, K2 = 8.0; geodesic active contour advection = 5.0, iterations = 200.\n",
    "* 2<sup>nd</sup> round: gradient magnitude recursive Gaussian &sigma; = 1.0; sigmoid mapping K1 = 9.0, K2 = 4.0:\n",
    "geodesic active contour advection = 5.0, iterations = 200.\n",
    "\n",
    "*Slice 42*  \n",
    "* 1<sup>st</sup> round: gradient magnitude recursive Gaussian &sigma; = 2.0; sigmoid mapping K1 = 20.0, K2 = 8.0;\n",
    "geodesic active contour propagation = 1.0, curvature = 0.2, advection = 4.0, iterations = 200.\n",
    "* 2<sup>nd</sup> round: gradient magnitude recursive Gaussian &sigma; = 1.0; sigmoid mapping K1 = 10.0, K2 = 4.0.\n",
    "\n",
    "*Slice 43*  \n",
    "* 1<sup>st</sup> round: gradient magnitude recursive Gaussian &sigma; = 2.0; sigmoid mapping K1 = 12.0, K2 = 4.0; geodesic active contour propagation = 0.8, advection = 3.0, iterations = 150.\n",
    "* 2<sup>nd</sup> round: gradient magnitude recursive Gaussian &sigma; = 1.0; sigmoid mapping K1 = 10.0, K2 = 4.0; geodesic active contour propagation = 1.0, advection = 4.0, iterations = 200.\n",
    "\n",
    "*Slice 44*  \n",
    "* 1<sup>st</sup> round: gradient magnitude recursive Gaussian &sigma; = 2.0; sigmoid mapping K1 = 12.0, K2 = 4.0; geodesic active contour propagation = 1.0, advection = 4.0, iterations = 200. \n",
    "* 2<sup>nd</sup> round: gradient magnitude recursive Gaussian &sigma; = 1.0; sigmoid mapping K1 = 8.0, K2 = 2.0; geodesic active contour propagation = 1.0, curvature = 0.4, advection = 5.0, iterations = 225. \n",
    "\n",
    "*Slice 45*  \n",
    "* 1<sup>st</sup> round: gradient magnitude recursive Gaussian &sigma; = 2.0; sigmoid mapping K1 = 12.0, K2 = 6.0; geodesic active contour propagation = 1.0, curvature = 0.2, advection = 4.0, iterations = 200. \n",
    "* 2<sup>nd</sup> round: gradient magnitude recursive Gaussian &sigma; = 1.0; sigmoid mapping K1 = 10.0, K2 = 4.0; geodesic active contour iterations = 180. \n",
    "\n",
    "*Slice 46*  \n",
    "* 1<sup>st</sup> round: gradient magnitude recursive Gaussian &sigma; = 2.0; sigmoid mapping K1 = 16.0, K2 = 6.0; geodesic active contour propagation = 1.0, curvature = 0.2, advection = 4.0, iterations = 150.\n",
    "* 2<sup>nd</sup> round: gradient magnitude recursive Gaussian &sigma; = 2.0; sigmoid mapping K1 = 10.0, K2 = 2.0; geodesic active contour propagation = 0.8, curvature = 0.2; advection = 3.0, iterations = 225.\n",
    "\n",
    "*Slice 47*  \n",
    "* 1<sup>st</sup> round: gradient magnitude recursive Gaussian &sigma; = 2.0; sigmoid mapping K1 = 14.0, K2 = 4.0; geodesic active contour propagation = 1.0, curvature = 0.2, advection = 3.0, iterations = 200.\n",
    "* 2<sup>nd</sup> round: gradient magnitude recursive Gaussian &sigma; = 1.0; sigmoid mapping K1 = 10.0, K2 = 4.0; geodesic active contour propagation = 0.6, curvature = 0.2, advection = 3.0, iterations = 25. \n",
    "* Due to difficulties in loss of edges, a manually segmented of a portion of the liver is imported as an NRRD file from 3D Slicer. \n",
    "\n",
    "*Slice 48*  \n",
    "* 1<sup>st</sup> round: gradient magnitude recursive Gaussian &sigma; = 2.0; sigmoid mapping K1 = 12.0, K2 = 4.0; geodesic active contour propagation = 1.0, curvature = 0.2, advection = 3.0, iterations = 150.\n",
    "* 2<sup>nd</sup> round: gradient magnitude recursive Gaussian &sigma; = 1.0; sigmoid mapping K1 = 8.0, K2 = 4.0; geodesic active contour propagation = 0.6, curvature = 0.6, advection = 0.2, iterations = 170. \n",
    "* A manually segmented of a portion of the liver is imported as an NRRD file from 3D Slicer.\n",
    "\n",
    "*Slice 49*  \n",
    "* 1<sup>st</sup> round: gradient magnitude recursive Gaussian &sigma; = 2.0; sigmoid mapping K1 = 12.0, K2 = 4.0; geodesic active contour propagation = 1.0, curvature = 0.2, advection = 3.0, iterations = 150.\n",
    "* 2<sup>nd</sup> round: gradient magnitude recursive Gaussian &sigma; = 1.0; sigmoid mapping K1 = 8.0, K2 = 4.0; geodesic active contour propagation = 1.0, curvature = 0.2, advection = 3.5, iterations = 150.\n",
    "* A manually segmented of a portion of the liver is imported as an NRRD file from 3D Slicer.\n",
    "\n",
    "*Slice 50*  \n",
    "* 1<sup>st</sup> round: gradient magnitude recursive Gaussian &sigma; = 2.0; sigmoid mapping K1 = 12.0, K2 = 4.0; geodesic active contour propagation = 1.0, curvature = 0.2, advection = 3.0, iterations = 200.\n",
    "* 2<sup>nd</sup> round: gradient magnitude recursive Gaussian &sigma; = 1.0; sigmoid mapping K1 = 8.0, K2 = 4.0; geodesic active contour propagation = 1.0, curvature = 0.5, advection = 3.5, iterations = 100.\n",
    "* A manually segmented of a portion of the liver is imported as an NRRD file from 3D Slicer.\n",
    "\n",
    "---"
   ]
  },
  {
   "cell_type": "markdown",
   "metadata": {},
   "source": [
    "# Read in DICOM Images"
   ]
  },
  {
   "cell_type": "code",
   "execution_count": 16,
   "metadata": {
    "collapsed": true
   },
   "outputs": [],
   "source": [
    "dicomPath = join(expanduser('~'), 'Documents', 'SlicerDICOMDatabase', 'TCIALocal', '0', 'images', '')\n",
    "reader = sitk.ImageSeriesReader()\n",
    "seriesIDread = reader.GetGDCMSeriesIDs(dicomPath)[1]\n",
    "dicomFilenames = reader.GetGDCMSeriesFileNames(dicomPath, seriesIDread)\n",
    "reader.SetFileNames(dicomFilenames)\n",
    "imgSeries = reader.Execute()"
   ]
  },
  {
   "cell_type": "code",
   "execution_count": 92,
   "metadata": {
    "collapsed": true
   },
   "outputs": [],
   "source": [
    "sliceNum = 50"
   ]
  },
  {
   "cell_type": "code",
   "execution_count": 93,
   "metadata": {
    "collapsed": true
   },
   "outputs": [],
   "source": [
    "imgSlice = imgSeries[:,:,sliceNum]"
   ]
  },
  {
   "cell_type": "markdown",
   "metadata": {},
   "source": [
    "Note that the TCGA-BC-4073 patient has 2 series of images (series 9 & 10). The series IDs are:"
   ]
  },
  {
   "cell_type": "code",
   "execution_count": 17,
   "metadata": {
    "collapsed": false
   },
   "outputs": [
    {
     "data": {
      "text/plain": [
       "('1.3.6.1.4.1.14519.5.2.1.8421.4008.138804327531308458796105931925',\n",
       " '1.3.6.1.4.1.14519.5.2.1.8421.4008.409273914557307131521893097931')"
      ]
     },
     "execution_count": 17,
     "metadata": {},
     "output_type": "execute_result"
    }
   ],
   "source": [
    "reader.GetGDCMSeriesIDs(dicomPath)"
   ]
  },
  {
   "cell_type": "markdown",
   "metadata": {},
   "source": [
    "The 2<sup>nd</sup> tuple element corresponds to series 9."
   ]
  },
  {
   "cell_type": "code",
   "execution_count": 94,
   "metadata": {
    "collapsed": true
   },
   "outputs": [],
   "source": [
    "show_img(imgSlice)"
   ]
  },
  {
   "cell_type": "markdown",
   "metadata": {},
   "source": [
    "# Filtering\n",
    "\n",
    "## Curvature anisotropic diffusion"
   ]
  },
  {
   "cell_type": "code",
   "execution_count": 95,
   "metadata": {
    "collapsed": false
   },
   "outputs": [],
   "source": [
    "timeStep_, conduct, numIter = (0.04, 9.0, 5)\n",
    "imgRecast = sitk.Cast(imgSlice, sitk.sitkFloat32)\n",
    "curvDiff = sitk.CurvatureAnisotropicDiffusionImageFilter()\n",
    "curvDiff.SetTimeStep(timeStep_)\n",
    "curvDiff.SetConductanceParameter(conduct)\n",
    "curvDiff.SetNumberOfIterations(numIter)\n",
    "imgFilter = curvDiff.Execute(imgRecast)"
   ]
  },
  {
   "cell_type": "code",
   "execution_count": 306,
   "metadata": {
    "collapsed": true
   },
   "outputs": [],
   "source": [
    "show_img(imgFilter)"
   ]
  },
  {
   "cell_type": "markdown",
   "metadata": {},
   "source": [
    "# Edge Potential\n",
    "\n",
    "## Gradient magnitude recursive Gaussian"
   ]
  },
  {
   "cell_type": "code",
   "execution_count": 170,
   "metadata": {
    "collapsed": false
   },
   "outputs": [],
   "source": [
    "sigma_ = 2.0\n",
    "imgGauss = sitk.GradientMagnitudeRecursiveGaussian(image1=imgFilter, sigma=sigma_)"
   ]
  },
  {
   "cell_type": "code",
   "execution_count": 548,
   "metadata": {
    "collapsed": true
   },
   "outputs": [],
   "source": [
    "show_img(imgGauss)"
   ]
  },
  {
   "cell_type": "markdown",
   "metadata": {},
   "source": [
    "# Feature Image\n",
    "\n",
    "## Sigmoid mapping"
   ]
  },
  {
   "cell_type": "code",
   "execution_count": 171,
   "metadata": {
    "collapsed": true
   },
   "outputs": [],
   "source": [
    "K1, K2 = 12.0, 4.0"
   ]
  },
  {
   "cell_type": "code",
   "execution_count": 172,
   "metadata": {
    "collapsed": true
   },
   "outputs": [],
   "source": [
    "alpha_ = (K2 - K1)/6\n",
    "beta_ = (K1 + K2)/2\n",
    "\n",
    "sigFilt = sitk.SigmoidImageFilter()\n",
    "sigFilt.SetAlpha(alpha_)\n",
    "sigFilt.SetBeta(beta_)\n",
    "sigFilt.SetOutputMaximum(1.0)\n",
    "sigFilt.SetOutputMinimum(0.0)\n",
    "imgSigmoid = sigFilt.Execute(imgGauss)"
   ]
  },
  {
   "cell_type": "code",
   "execution_count": 117,
   "metadata": {
    "collapsed": false
   },
   "outputs": [],
   "source": [
    "show_img(imgSigmoid)"
   ]
  },
  {
   "cell_type": "markdown",
   "metadata": {},
   "source": [
    "# Input Level Set\n",
    "\n",
    "Use the class *IndexMouseCapture* (defined above) to capture coordinates from mouse clicks for seeds. The radii are all assumed to be of the same size at the moment."
   ]
  },
  {
   "cell_type": "code",
   "execution_count": 152,
   "metadata": {
    "collapsed": false
   },
   "outputs": [
    {
     "data": {
      "text/plain": [
       "6"
      ]
     },
     "execution_count": 152,
     "metadata": {},
     "output_type": "execute_result"
    }
   ],
   "source": [
    "X = sitk.GetArrayFromImage(imgSigmoid)\n",
    "\n",
    "fig = plt.figure()\n",
    "ax = fig.add_subplot(111)\n",
    "capture = IndexMouseCapture(ax, X)\n",
    "fig.canvas.mpl_connect('button_press_event', capture.onclick)"
   ]
  },
  {
   "cell_type": "code",
   "execution_count": 174,
   "metadata": {
    "collapsed": false
   },
   "outputs": [],
   "source": [
    "coords = pickle.load(open(pickleDir + 'slice50_1st_round_seeds.p', 'rb'))"
   ]
  },
  {
   "cell_type": "code",
   "execution_count": 175,
   "metadata": {
    "collapsed": true
   },
   "outputs": [],
   "source": [
    "initImg = input_level_set_click(imgSigmoid, coords)"
   ]
  },
  {
   "cell_type": "code",
   "execution_count": 31,
   "metadata": {
    "collapsed": true
   },
   "outputs": [],
   "source": [
    "pickleDir = os.path.join('Liver Segmentation Data', 'TCGA-BC-4073', '')"
   ]
  },
  {
   "cell_type": "code",
   "execution_count": 169,
   "metadata": {
    "collapsed": true
   },
   "outputs": [],
   "source": [
    "pickle.dump(capture.coords, open(pickleDir + 'slice50_2nd_round_seeds.p', 'wb'))"
   ]
  },
  {
   "cell_type": "markdown",
   "metadata": {},
   "source": [
    "For subsequent rounds, create a new level set from segmentation of downsampled image. Start by converting the segmentation result into a workable format:"
   ]
  },
  {
   "cell_type": "code",
   "execution_count": 113,
   "metadata": {
    "collapsed": true
   },
   "outputs": [],
   "source": [
    "binaryThresh = sitk.BinaryThresholdImageFilter()\n",
    "binaryThresh.SetLowerThreshold(-3.0)\n",
    "binaryThresh.SetUpperThreshold(2.0)\n",
    "binaryThresh.SetInsideValue(1)\n",
    "binaryThresh.SetOutsideValue(0)\n",
    "binaryImg = binaryThresh.Execute(imgGac)"
   ]
  },
  {
   "cell_type": "code",
   "execution_count": 228,
   "metadata": {
    "collapsed": true
   },
   "outputs": [],
   "source": [
    "show_img(binaryImg)"
   ]
  },
  {
   "cell_type": "markdown",
   "metadata": {},
   "source": [
    "Add in new seeds using *IndexMouseCapture* above, and then create a new input level set image:"
   ]
  },
  {
   "cell_type": "code",
   "execution_count": 154,
   "metadata": {
    "collapsed": true
   },
   "outputs": [],
   "source": [
    "# get array from previous geodesic active contour\n",
    "X_gac = sitk.GetArrayFromImage(binaryImg)\n",
    "\n",
    "# get array from user-input seed clicks\n",
    "X_click = sitk.GetArrayFromImage(input_level_set_click(imgSigmoid, capture.coords))\n",
    "X_click[np.where(X_click == -0.5)] = 1.0\n",
    "X_click[np.where(X_click == 0.5)] = 0.0\n",
    "\n",
    "# combine into a single array\n",
    "X_input = X_gac.astype(bool) + X_click.astype(bool)\n",
    "\n",
    "# write array into new input level set\n",
    "initImg = sitk.Cast(sitk.GetImageFromArray(X_input.astype(int)), imgSigmoid.GetPixelIDValue()) * -1 + 0.5\n",
    "initImg.SetSpacing(imgSigmoid.GetSpacing())\n",
    "initImg.SetOrigin(imgSigmoid.GetOrigin())\n",
    "initImg.SetDirection(imgSigmoid.GetDirection())"
   ]
  },
  {
   "cell_type": "markdown",
   "metadata": {},
   "source": [
    "Display the initial input level set:"
   ]
  },
  {
   "cell_type": "code",
   "execution_count": 155,
   "metadata": {
    "collapsed": false
   },
   "outputs": [],
   "source": [
    "show_img(imgSigmoid, initImg)"
   ]
  },
  {
   "cell_type": "markdown",
   "metadata": {},
   "source": [
    "# Segmentation\n",
    "\n",
    "## Geodesic active contour"
   ]
  },
  {
   "cell_type": "code",
   "execution_count": 179,
   "metadata": {
    "collapsed": false
   },
   "outputs": [
    {
     "data": {
      "text/plain": [
       "<SimpleITK.SimpleITK.GeodesicActiveContourLevelSetImageFilter; proxy of <Swig Object of type 'itk::simple::GeodesicActiveContourLevelSetImageFilter::Self *' at 0x123ea93f0> >"
      ]
     },
     "execution_count": 179,
     "metadata": {},
     "output_type": "execute_result"
    }
   ],
   "source": [
    "gac = sitk.GeodesicActiveContourLevelSetImageFilter()\n",
    "gac.SetPropagationScaling(1.0)\n",
    "gac.SetCurvatureScaling(0.2)\n",
    "gac.SetAdvectionScaling(3.0)\n",
    "gac.SetMaximumRMSError(0.01)\n",
    "gac.SetNumberOfIterations(200)"
   ]
  },
  {
   "cell_type": "code",
   "execution_count": 180,
   "metadata": {
    "collapsed": false
   },
   "outputs": [],
   "source": [
    "imgGac = gac.Execute(initImg, imgSigmoid)"
   ]
  },
  {
   "cell_type": "code",
   "execution_count": 181,
   "metadata": {
    "collapsed": true
   },
   "outputs": [],
   "source": [
    "show_img(imgSlice, imgGac)"
   ]
  },
  {
   "cell_type": "markdown",
   "metadata": {},
   "source": [
    "## Import manual label map"
   ]
  },
  {
   "cell_type": "code",
   "execution_count": 162,
   "metadata": {
    "collapsed": true
   },
   "outputs": [],
   "source": [
    "manLabelMap = sitk.ReadImage(os.path.join('Liver Segmentation Data', 'TCGA-BC-4073', \n",
    "                                          'slice50_partial_manual.nrrd'))\n",
    "X_man = sitk.GetArrayFromImage(manLabelMap[:,:,50])"
   ]
  },
  {
   "cell_type": "code",
   "execution_count": 165,
   "metadata": {
    "collapsed": false
   },
   "outputs": [
    {
     "data": {
      "text/plain": [
       "(512, 384, 72)"
      ]
     },
     "execution_count": 165,
     "metadata": {},
     "output_type": "execute_result"
    }
   ],
   "source": [
    "manLabelMap.GetSize()"
   ]
  },
  {
   "cell_type": "code",
   "execution_count": 1080,
   "metadata": {
    "collapsed": true
   },
   "outputs": [],
   "source": [
    "show_img(manLabelMap[:,:,48])"
   ]
  },
  {
   "cell_type": "markdown",
   "metadata": {},
   "source": [
    "Combine manual label map with segmentation:"
   ]
  },
  {
   "cell_type": "code",
   "execution_count": 166,
   "metadata": {
    "collapsed": false
   },
   "outputs": [],
   "source": [
    "X_gac = sitk.GetArrayFromImage(imgGac)"
   ]
  },
  {
   "cell_type": "code",
   "execution_count": 167,
   "metadata": {
    "collapsed": true
   },
   "outputs": [],
   "source": [
    "X_bool = X_gac < np.amax(X_gac)\n",
    "X_final = X_man.astype(bool) + X_bool\n",
    "X_final = X_final.astype(int)"
   ]
  },
  {
   "cell_type": "code",
   "execution_count": 168,
   "metadata": {
    "collapsed": true
   },
   "outputs": [],
   "source": [
    "show_img(imgSlice, sitk.GetImageFromArray(X_final))"
   ]
  },
  {
   "cell_type": "code",
   "execution_count": null,
   "metadata": {
    "collapsed": true
   },
   "outputs": [],
   "source": []
  }
 ],
 "metadata": {
  "kernelspec": {
   "display_name": "Python 3",
   "language": "python",
   "name": "python3"
  },
  "language_info": {
   "codemirror_mode": {
    "name": "ipython",
    "version": 3
   },
   "file_extension": ".py",
   "mimetype": "text/x-python",
   "name": "python",
   "nbconvert_exporter": "python",
   "pygments_lexer": "ipython3",
   "version": "3.4.3"
  }
 },
 "nbformat": 4,
 "nbformat_minor": 0
}
