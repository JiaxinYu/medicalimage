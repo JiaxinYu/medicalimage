{
 "cells": [
  {
   "cell_type": "code",
   "execution_count": 1,
   "metadata": {
    "collapsed": true
   },
   "outputs": [],
   "source": [
    "import collections"
   ]
  },
  {
   "cell_type": "code",
   "execution_count": 2,
   "metadata": {
    "collapsed": true
   },
   "outputs": [],
   "source": [
    "import matplotlib"
   ]
  },
  {
   "cell_type": "code",
   "execution_count": 3,
   "metadata": {
    "collapsed": true
   },
   "outputs": [],
   "source": [
    "matplotlib.use('Agg')"
   ]
  },
  {
   "cell_type": "code",
   "execution_count": 4,
   "metadata": {
    "collapsed": true
   },
   "outputs": [],
   "source": [
    "%matplotlib qt"
   ]
  },
  {
   "cell_type": "code",
   "execution_count": 5,
   "metadata": {
    "collapsed": true
   },
   "outputs": [],
   "source": [
    "import matplotlib.pyplot as plt"
   ]
  },
  {
   "cell_type": "code",
   "execution_count": 6,
   "metadata": {
    "collapsed": true
   },
   "outputs": [],
   "source": [
    "import numpy as np"
   ]
  },
  {
   "cell_type": "code",
   "execution_count": 7,
   "metadata": {
    "collapsed": true
   },
   "outputs": [],
   "source": [
    "import scipy.stats"
   ]
  },
  {
   "cell_type": "code",
   "execution_count": 8,
   "metadata": {
    "collapsed": true
   },
   "outputs": [],
   "source": [
    "import SimpleITK as sitk"
   ]
  },
  {
   "cell_type": "code",
   "execution_count": 9,
   "metadata": {
    "collapsed": true
   },
   "outputs": [],
   "source": [
    "from os.path import expanduser, join"
   ]
  },
  {
   "cell_type": "code",
   "execution_count": 10,
   "metadata": {
    "collapsed": true
   },
   "outputs": [],
   "source": [
    "from scipy.spatial.distance import euclidean"
   ]
  },
  {
   "cell_type": "code",
   "execution_count": 11,
   "metadata": {
    "collapsed": true
   },
   "outputs": [],
   "source": [
    "import imgscroll"
   ]
  },
  {
   "cell_type": "markdown",
   "metadata": {},
   "source": [
    "---"
   ]
  },
  {
   "cell_type": "code",
   "execution_count": 12,
   "metadata": {
    "collapsed": true
   },
   "outputs": [],
   "source": [
    "def show_imgs(imgstack, imgstack2=None):\n",
    "    \"\"\"Uses imgscroll to show stack of images with mouse scrolling\"\"\"\n",
    "    X = sitk.GetArrayFromImage(imgstack)\n",
    "    fig = plt.figure()\n",
    "    ax = fig.add_subplot(111)\n",
    "    if imgstack2 is not None:\n",
    "        X2 = sitk.GetArrayFromImage(imgstack2)\n",
    "        maskVal = scipy.stats.mode(X2.flatten())[0][0]\n",
    "        Xmask = np.ma.masked_where(X2 == maskVal, X2)\n",
    "        tracker = imgscroll.IndexTracker2(ax, X, Xmask)\n",
    "    else:\n",
    "        tracker = imgscroll.IndexTracker(ax, X)\n",
    "    fig.canvas.mpl_connect('scroll_event', tracker.onscroll)\n",
    "    plt.show()"
   ]
  },
  {
   "cell_type": "code",
   "execution_count": 13,
   "metadata": {
    "collapsed": true
   },
   "outputs": [],
   "source": [
    "def input_level_set_3d(featImg, seed2radius):\n",
    "    \"\"\"Construct input level set image from user-supplied seed points\"\"\"\n",
    "    setupImg = sitk.Image(featImg.GetSize()[0], featImg.GetSize()[1], sitk.sitkUInt8)\n",
    "\n",
    "    X2D = sitk.GetArrayFromImage(setupImg)\n",
    "    for s in seed2radius.keys():\n",
    "        rowIni, rowEnd = s[0] - seed2radius[s], s[0] + seed2radius[s]\n",
    "        colIni, colEnd = s[1] - seed2radius[s], s[1] + seed2radius[s]\n",
    "        for i in range(rowIni, rowEnd+1):\n",
    "            for j in range(colIni, colEnd+1):\n",
    "                if euclidean((i,j), s) <= seed2radius[s]:\n",
    "                    X2D[i,j] = 1\n",
    "    X = X2D.reshape(1, *X2D.shape).repeat(featImg.GetSize()[2], axis=0)\n",
    "    \n",
    "    img = sitk.Cast(sitk.GetImageFromArray(X), featImg.GetPixelIDValue()) * -1 + 0.5\n",
    "    img.SetSpacing(featImg.GetSpacing())\n",
    "    img.SetOrigin(featImg.GetOrigin())\n",
    "    img.SetDirection(featImg.GetDirection())\n",
    "    return img"
   ]
  },
  {
   "cell_type": "code",
   "execution_count": 14,
   "metadata": {
    "collapsed": true
   },
   "outputs": [],
   "source": [
    "def input_level_set_click(featImg, slice2coords):\n",
    "    RADIUS = 10\n",
    "    numCols = featImg.GetSize()[0]\n",
    "    numRows = featImg.GetSize()[1]\n",
    "    depthSize = featImg.GetSize()[2]\n",
    "    X = np.zeros((depthSize, numRows, numCols), dtype=np.int)\n",
    "    \n",
    "    for n in slice2coords:        \n",
    "        for c in slice2coords[n]:\n",
    "            rowIni, rowEnd = c[1] - RADIUS, c[1] + RADIUS\n",
    "            colIni, colEnd = c[0] - RADIUS, c[0] + RADIUS\n",
    "            for i in range(rowIni, rowEnd+1):\n",
    "                for j in range(colIni, colEnd+1):\n",
    "                    if euclidean((i,j), (c[1], c[0])) <= RADIUS:\n",
    "                        X[n,i,j] = 1\n",
    "    \n",
    "    img = sitk.Cast(sitk.GetImageFromArray(X), featImg.GetPixelIDValue()) * -1 + 0.5\n",
    "    img.SetSpacing(featImg.GetSpacing())\n",
    "    img.SetOrigin(featImg.GetOrigin())\n",
    "    img.SetDirection(featImg.GetDirection())\n",
    "    return img"
   ]
  },
  {
   "cell_type": "code",
   "execution_count": 15,
   "metadata": {
    "collapsed": true
   },
   "outputs": [],
   "source": [
    "class IndexMouseCapture(object):\n",
    "    def __init__(self, ax, X):\n",
    "        self.ax = ax\n",
    "        self.X = X\n",
    "        self.slices, numrows, numcols = X.shape\n",
    "        self.ind = 0\n",
    "        self.ind2coord = collections.defaultdict(list)\n",
    "        \n",
    "        self.im = ax.imshow(self.X[self.ind, :, :], cmap=plt.cm.Greys_r)\n",
    "        self.update()\n",
    "\n",
    "    def onscroll(self, event):\n",
    "        if event.button == 'up':\n",
    "            self.ind = np.clip(self.ind+1, 0, self.slices-1)\n",
    "        else:\n",
    "            self.ind = np.clip(self.ind-1, 0, self.slices-1)\n",
    "\n",
    "        self.update()\n",
    "\n",
    "    def onclick(self, event):\n",
    "        ix, iy = int(round(event.xdata)), int(round(event.ydata))\n",
    "        self.ind2coord[self.ind].append((ix, iy))\n",
    "        self.update()\n",
    "\n",
    "    def update(self):\n",
    "        self.im.set_data(self.X[self.ind, :, :])\n",
    "        self.ax.set_title('slice %s' %self.ind)\n",
    "        self.im.axes.figure.canvas.draw()"
   ]
  },
  {
   "cell_type": "markdown",
   "metadata": {},
   "source": [
    "---"
   ]
  },
  {
   "cell_type": "markdown",
   "metadata": {},
   "source": [
    "# Read in DICOM images"
   ]
  },
  {
   "cell_type": "code",
   "execution_count": 16,
   "metadata": {
    "collapsed": true
   },
   "outputs": [],
   "source": [
    "dicomPath = join(expanduser('~'), 'Documents', 'SlicerDICOMDatabase', 'TCIALocal', '0', 'images', '')\n",
    "reader = sitk.ImageSeriesReader()\n",
    "seriesIDread = reader.GetGDCMSeriesIDs(dicomPath)[1]\n",
    "dicomFilenames = reader.GetGDCMSeriesFileNames(dicomPath, seriesIDread)\n",
    "reader.SetFileNames(dicomFilenames)\n",
    "imgSeries = reader.Execute()"
   ]
  },
  {
   "cell_type": "code",
   "execution_count": 17,
   "metadata": {
    "collapsed": true
   },
   "outputs": [],
   "source": [
    "# choose a series of slices\n",
    "imgSlices = imgSeries[:,:,41:50]"
   ]
  },
  {
   "cell_type": "code",
   "execution_count": 22,
   "metadata": {
    "collapsed": false
   },
   "outputs": [],
   "source": [
    "show_imgs(imgSlices)"
   ]
  },
  {
   "cell_type": "markdown",
   "metadata": {
    "collapsed": true
   },
   "source": [
    "# Filtering\n",
    "\n",
    "## Curvature anisotropic diffusion"
   ]
  },
  {
   "cell_type": "code",
   "execution_count": 18,
   "metadata": {
    "collapsed": false
   },
   "outputs": [],
   "source": [
    "timeStep_, conduct, numIter = (0.06, 9.0, 5)\n",
    "imgRecast = sitk.Cast(imgSlices, sitk.sitkFloat32)\n",
    "curvDiff = sitk.CurvatureAnisotropicDiffusionImageFilter()\n",
    "curvDiff.SetTimeStep(timeStep_)\n",
    "curvDiff.SetConductanceParameter(conduct)\n",
    "curvDiff.SetNumberOfIterations(numIter)\n",
    "imgFilter = curvDiff.Execute(imgRecast)"
   ]
  },
  {
   "cell_type": "code",
   "execution_count": 24,
   "metadata": {
    "collapsed": true
   },
   "outputs": [],
   "source": [
    "show_imgs(imgFilter)"
   ]
  },
  {
   "cell_type": "markdown",
   "metadata": {},
   "source": [
    "# Edge potential\n",
    "\n",
    "## Gradient magnitude recursive Gaussian"
   ]
  },
  {
   "cell_type": "code",
   "execution_count": 19,
   "metadata": {
    "collapsed": true
   },
   "outputs": [],
   "source": [
    "sigma_ = 1.0\n",
    "imgGauss = sitk.GradientMagnitudeRecursiveGaussian(image1=imgFilter, sigma=sigma_)"
   ]
  },
  {
   "cell_type": "code",
   "execution_count": 25,
   "metadata": {
    "collapsed": true
   },
   "outputs": [],
   "source": [
    "show_imgs(imgGauss)"
   ]
  },
  {
   "cell_type": "markdown",
   "metadata": {},
   "source": [
    "# Feature Image\n",
    "\n",
    "## Sigmoid mapping"
   ]
  },
  {
   "cell_type": "code",
   "execution_count": 26,
   "metadata": {
    "collapsed": true
   },
   "outputs": [],
   "source": [
    "#K1, K2 = 20.0, 8.0\n",
    "K1, K2 = 10.0, 2.0"
   ]
  },
  {
   "cell_type": "code",
   "execution_count": 27,
   "metadata": {
    "collapsed": true
   },
   "outputs": [],
   "source": [
    "alpha_ = (K2 - K1)/6\n",
    "beta_ = (K1 + K2)/2\n",
    "\n",
    "sigFilt = sitk.SigmoidImageFilter()\n",
    "sigFilt.SetAlpha(alpha_)\n",
    "sigFilt.SetBeta(beta_)\n",
    "sigFilt.SetOutputMaximum(1.0)\n",
    "sigFilt.SetOutputMinimum(0.0)\n",
    "imgSigmoid = sigFilt.Execute(imgGauss)"
   ]
  },
  {
   "cell_type": "code",
   "execution_count": 28,
   "metadata": {
    "collapsed": true
   },
   "outputs": [],
   "source": [
    "show_imgs(imgSigmoid)"
   ]
  },
  {
   "cell_type": "markdown",
   "metadata": {
    "collapsed": true
   },
   "source": [
    "# Input Level Set"
   ]
  },
  {
   "cell_type": "markdown",
   "metadata": {},
   "source": [
    "Manually type in the seed coordinates and radii:"
   ]
  },
  {
   "cell_type": "code",
   "execution_count": 23,
   "metadata": {
    "collapsed": true
   },
   "outputs": [],
   "source": [
    "#coords = [(118, 286), (135, 254), (202, 75), (169, 89), (145, 209), (142, 147), (252, 58), (205, 119)]\n",
    "coords = [(118, 286), (135, 254), (145, 209), (142, 147)]"
   ]
  },
  {
   "cell_type": "code",
   "execution_count": 24,
   "metadata": {
    "collapsed": true
   },
   "outputs": [],
   "source": [
    "radii = [10, 10, 10, 10]"
   ]
  },
  {
   "cell_type": "code",
   "execution_count": 25,
   "metadata": {
    "collapsed": true
   },
   "outputs": [],
   "source": [
    "seed2radius = {tuple(reversed(p[0])): p[1] for p in zip(coords, radii)}"
   ]
  },
  {
   "cell_type": "code",
   "execution_count": 26,
   "metadata": {
    "collapsed": false
   },
   "outputs": [],
   "source": [
    "initImg = input_level_set_3d(imgSigmoid, seed2radius)"
   ]
  },
  {
   "cell_type": "markdown",
   "metadata": {},
   "source": [
    "Alternatively, use the class *IndexMouseCapture* (defined above) to capture coordinates from mouse clicks for seeds. The radii are all assumed to be of the same size at the moment. "
   ]
  },
  {
   "cell_type": "markdown",
   "metadata": {},
   "source": [
    "To add circle to image:\n",
    "\n",
    "    X = sitk.GetArrayFromImage(imgSlice)\n",
    "    circ = plt.Circle((125, 173), 10, color='b')\n",
    "    plt.imshow(X, cmap=plt.cm.Greys_r)\n",
    "    plt.gcf().gca().add_artist(circ)\n",
    "    plt.show()\n",
    "\n",
    "To add circle to image interactively and save coordinate:\n",
    "\n",
    "    def onclick(event):\n",
    "        ix, iy = int(round(event.xdata)), int(round(event.ydata))\n",
    "        coord.append((ix, iy))\n",
    "        circ = plt.Circle((ix, iy), 10, color='b')\n",
    "        plt.gcf().gca().add_artist(circ)\n",
    "        im.axes.figure.canvas.draw()\n",
    "        \n",
    "    coord = list()\n",
    "    \n",
    "    imgSeries = liversegmentation.read_dicom()\n",
    "    imgSlice = imgSeries[:,:,40]\n",
    "    \n",
    "    X = sitk.GetArrayFromImage(imgSlice)\n",
    "    \n",
    "    fig = plt.figure()\n",
    "    ax = fig.add_subplot(111)\n",
    "    fig.canvas.mpl_connect('button_press_event', onclick)\n",
    "    im = plt.imshow(X, cmap=plt.cm.Greys_r)\n",
    "    plt.show()"
   ]
  },
  {
   "cell_type": "code",
   "execution_count": 34,
   "metadata": {
    "collapsed": false
   },
   "outputs": [
    {
     "data": {
      "text/plain": [
       "7"
      ]
     },
     "execution_count": 34,
     "metadata": {},
     "output_type": "execute_result"
    }
   ],
   "source": [
    "X = sitk.GetArrayFromImage(imgSigmoid)\n",
    "\n",
    "fig = plt.figure()\n",
    "ax = fig.add_subplot(111)\n",
    "tracker = IndexMouseCapture(ax, X)\n",
    "fig.canvas.mpl_connect('scroll_event', tracker.onscroll)\n",
    "fig.canvas.mpl_connect('button_press_event', tracker.onclick)"
   ]
  },
  {
   "cell_type": "code",
   "execution_count": 35,
   "metadata": {
    "collapsed": false
   },
   "outputs": [],
   "source": [
    "initImg = input_level_set_click(imgSigmoid, tracker.ind2coord)"
   ]
  },
  {
   "cell_type": "markdown",
   "metadata": {},
   "source": [
    "Display the initial input level set:"
   ]
  },
  {
   "cell_type": "code",
   "execution_count": 36,
   "metadata": {
    "collapsed": false
   },
   "outputs": [],
   "source": [
    "show_imgs(initImg)"
   ]
  },
  {
   "cell_type": "code",
   "execution_count": 37,
   "metadata": {
    "collapsed": true
   },
   "outputs": [],
   "source": [
    "show_imgs(imgSigmoid, initImg)"
   ]
  },
  {
   "cell_type": "markdown",
   "metadata": {
    "collapsed": true
   },
   "source": [
    "# Segmentation\n",
    "\n",
    "## Geodesic Active Contour"
   ]
  },
  {
   "cell_type": "code",
   "execution_count": 38,
   "metadata": {
    "collapsed": false
   },
   "outputs": [
    {
     "data": {
      "text/plain": [
       "<SimpleITK.SimpleITK.GeodesicActiveContourLevelSetImageFilter; proxy of <Swig Object of type 'itk::simple::GeodesicActiveContourLevelSetImageFilter::Self *' at 0x123460720> >"
      ]
     },
     "execution_count": 38,
     "metadata": {},
     "output_type": "execute_result"
    }
   ],
   "source": [
    "gac = sitk.GeodesicActiveContourLevelSetImageFilter()\n",
    "gac.SetPropagationScaling(1.0)\n",
    "gac.SetCurvatureScaling(0.2)\n",
    "gac.SetAdvectionScaling(4.5)\n",
    "gac.SetMaximumRMSError(0.01)\n",
    "gac.SetNumberOfIterations(200)"
   ]
  },
  {
   "cell_type": "code",
   "execution_count": 39,
   "metadata": {
    "collapsed": true
   },
   "outputs": [],
   "source": [
    "gacSlices = [gac.Execute(initImg[:,:,z], imgSigmoid[:,:,z]) for z in range(imgSigmoid.GetDepth())]\n",
    "gac3D = sitk.JoinSeries(gacSlices)"
   ]
  },
  {
   "cell_type": "code",
   "execution_count": 31,
   "metadata": {
    "collapsed": true
   },
   "outputs": [],
   "source": [
    "show_imgs(gac3D)"
   ]
  },
  {
   "cell_type": "code",
   "execution_count": 40,
   "metadata": {
    "collapsed": true
   },
   "outputs": [],
   "source": [
    "show_imgs(imgSigmoid, gac3D)"
   ]
  },
  {
   "cell_type": "code",
   "execution_count": null,
   "metadata": {
    "collapsed": true
   },
   "outputs": [],
   "source": []
  }
 ],
 "metadata": {
  "kernelspec": {
   "display_name": "Python 3",
   "language": "python",
   "name": "python3"
  },
  "language_info": {
   "codemirror_mode": {
    "name": "ipython",
    "version": 3
   },
   "file_extension": ".py",
   "mimetype": "text/x-python",
   "name": "python",
   "nbconvert_exporter": "python",
   "pygments_lexer": "ipython3",
   "version": "3.4.3"
  }
 },
 "nbformat": 4,
 "nbformat_minor": 0
}
