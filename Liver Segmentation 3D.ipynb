{
 "cells": [
  {
   "cell_type": "code",
   "execution_count": 1,
   "metadata": {
    "collapsed": true
   },
   "outputs": [],
   "source": [
    "import matplotlib"
   ]
  },
  {
   "cell_type": "code",
   "execution_count": 2,
   "metadata": {
    "collapsed": true
   },
   "outputs": [],
   "source": [
    "matplotlib.use('Agg')"
   ]
  },
  {
   "cell_type": "code",
   "execution_count": 3,
   "metadata": {
    "collapsed": true
   },
   "outputs": [],
   "source": [
    "%matplotlib qt"
   ]
  },
  {
   "cell_type": "code",
   "execution_count": 4,
   "metadata": {
    "collapsed": true
   },
   "outputs": [],
   "source": [
    "import matplotlib.pyplot as plt"
   ]
  },
  {
   "cell_type": "code",
   "execution_count": 5,
   "metadata": {
    "collapsed": true
   },
   "outputs": [],
   "source": [
    "import numpy as np"
   ]
  },
  {
   "cell_type": "code",
   "execution_count": 6,
   "metadata": {
    "collapsed": true
   },
   "outputs": [],
   "source": [
    "import SimpleITK as sitk"
   ]
  },
  {
   "cell_type": "code",
   "execution_count": 7,
   "metadata": {
    "collapsed": true
   },
   "outputs": [],
   "source": [
    "from os.path import expanduser, join"
   ]
  },
  {
   "cell_type": "code",
   "execution_count": 8,
   "metadata": {
    "collapsed": true
   },
   "outputs": [],
   "source": [
    "from scipy.spatial.distance import euclidean"
   ]
  },
  {
   "cell_type": "code",
   "execution_count": 9,
   "metadata": {
    "collapsed": true
   },
   "outputs": [],
   "source": [
    "import imgscroll"
   ]
  },
  {
   "cell_type": "markdown",
   "metadata": {},
   "source": [
    "---"
   ]
  },
  {
   "cell_type": "code",
   "execution_count": 10,
   "metadata": {
    "collapsed": true
   },
   "outputs": [],
   "source": [
    "def show_imgs(imgstack, imgstack2=None):\n",
    "    \"\"\"Uses imgscroll to show stack of images with mouse scrolling\"\"\"\n",
    "    X = sitk.GetArrayFromImage(imgstack)\n",
    "    fig = plt.figure()\n",
    "    ax = fig.add_subplot(111)\n",
    "    if imgstack is not None:\n",
    "        Xover = sitk.GetArrayFromImage(imgstack2)\n",
    "        tracker = \n",
    "    tracker = imgscroll.IndexTracker(ax, X)\n",
    "    fig.canvas.mpl_connect('scroll_event', tracker.onscroll)\n",
    "    plt.show()"
   ]
  },
  {
   "cell_type": "code",
   "execution_count": 11,
   "metadata": {
    "collapsed": true
   },
   "outputs": [],
   "source": [
    "def input_level_set(featImg, seed2radius):\n",
    "    \"\"\"Construct input level set image from user-supplied seed points\"\"\"\n",
    "    setupImg = sitk.Image(featImg.GetSize()[0], featImg.GetSize()[1], sitk.sitkUInt8)\n",
    "\n",
    "    X2D = sitk.GetArrayFromImage(setupImg)\n",
    "    for s in seed2radius.keys():\n",
    "        rowIni, rowEnd = s[0] - seed2radius[s], s[0] + seed2radius[s]\n",
    "        colIni, colEnd = s[1] - seed2radius[s], s[1] + seed2radius[s]\n",
    "        for i in range(rowIni, rowEnd+1):\n",
    "            for j in range(colIni, colEnd+1):\n",
    "                if euclidean((i,j), s) <= seed2radius[s]:\n",
    "                    X2D[i,j] = 1\n",
    "    X = X2D.reshape(1, *X2D.shape).repeat(featImg.GetSize()[2], axis=0)\n",
    "    \n",
    "    img = sitk.Cast(sitk.GetImageFromArray(X), featImg.GetPixelIDValue()) * -1 + 0.5\n",
    "    img.SetSpacing(featImg.GetSpacing())\n",
    "    img.SetOrigin(featImg.GetOrigin())\n",
    "    img.SetDirection(featImg.GetDirection())\n",
    "    return img"
   ]
  },
  {
   "cell_type": "code",
   "execution_count": 58,
   "metadata": {
    "collapsed": true
   },
   "outputs": [],
   "source": [
    "class IndexTracker2(object):\n",
    "    def __init__(self, ax, X, Xover):\n",
    "        self.ax = ax\n",
    "        self.X = X\n",
    "        self.Xover = Xover\n",
    "        self.slices = X.shape[0]\n",
    "        self.ind = 0\n",
    "        \n",
    "        self.im = ax.imshow(X[self.ind,:,:], cmap=plt.cm.Greys_r)\n",
    "        self.imOver = ax.imshow(Xover[self.ind,:,:], alpha=0.5)\n",
    "        self.update()\n",
    "        \n",
    "    def onscroll(self, event):\n",
    "        if event.button == 'up':\n",
    "            self.ind = np.clip(self.ind+1, 0, self.slices-1)\n",
    "        else:\n",
    "            self.ind = np.clip(self.ind-1, 0, self.slices-1)\n",
    "\n",
    "        self.update()\n",
    "    \n",
    "    def update(self):\n",
    "        self.im.set_data(self.X[self.ind,:,:])\n",
    "        self.imOver.set_data(self.Xover[self.ind,:,:])\n",
    "        self.ax.set_title('slice %s' %self.ind)\n",
    "        self.im.axes.figure.canvas.draw()\n",
    "        self.imOver.axes.figure.canvas.draw()"
   ]
  },
  {
   "cell_type": "markdown",
   "metadata": {},
   "source": [
    "---"
   ]
  },
  {
   "cell_type": "markdown",
   "metadata": {},
   "source": [
    "# Read in DICOM images"
   ]
  },
  {
   "cell_type": "code",
   "execution_count": 12,
   "metadata": {
    "collapsed": true
   },
   "outputs": [],
   "source": [
    "dicomPath = join(expanduser('~'), 'Documents', 'SlicerDICOMDatabase', 'TCIALocal', '0', 'images', '')\n",
    "reader = sitk.ImageSeriesReader()\n",
    "seriesIDread = reader.GetGDCMSeriesIDs(dicomPath)[1]\n",
    "dicomFilenames = reader.GetGDCMSeriesFileNames(dicomPath, seriesIDread)\n",
    "reader.SetFileNames(dicomFilenames)\n",
    "imgSeries = reader.Execute()"
   ]
  },
  {
   "cell_type": "code",
   "execution_count": 13,
   "metadata": {
    "collapsed": true
   },
   "outputs": [],
   "source": [
    "# choose a series of slices\n",
    "imgSlices = imgSeries[:,:,41:50]"
   ]
  },
  {
   "cell_type": "code",
   "execution_count": 12,
   "metadata": {
    "collapsed": false
   },
   "outputs": [],
   "source": [
    "show_imgs(imgSlices)"
   ]
  },
  {
   "cell_type": "markdown",
   "metadata": {},
   "source": [
    "Cast original slices to unsigned 8-bit integer so that segmentations can be overlaid on top:"
   ]
  },
  {
   "cell_type": "code",
   "execution_count": 41,
   "metadata": {
    "collapsed": true
   },
   "outputs": [],
   "source": [
    "imgSlicesUI8 = sitk.Cast(sitk.RescaleIntensity(imgSlices), sitk.sitkUInt8)"
   ]
  },
  {
   "cell_type": "markdown",
   "metadata": {
    "collapsed": true
   },
   "source": [
    "# Filtering\n",
    "\n",
    "## Curvature anisotropic diffusion"
   ]
  },
  {
   "cell_type": "code",
   "execution_count": 14,
   "metadata": {
    "collapsed": false
   },
   "outputs": [],
   "source": [
    "timeStep_, conduct, numIter = (0.06, 9.0, 5)\n",
    "imgRecast = sitk.Cast(imgSlices, sitk.sitkFloat32)\n",
    "curvDiff = sitk.CurvatureAnisotropicDiffusionImageFilter()\n",
    "curvDiff.SetTimeStep(timeStep_)\n",
    "curvDiff.SetConductanceParameter(conduct)\n",
    "curvDiff.SetNumberOfIterations(numIter)\n",
    "imgFilter = curvDiff.Execute(imgRecast)"
   ]
  },
  {
   "cell_type": "code",
   "execution_count": 14,
   "metadata": {
    "collapsed": true
   },
   "outputs": [],
   "source": [
    "show_imgs(imgFilter)"
   ]
  },
  {
   "cell_type": "markdown",
   "metadata": {},
   "source": [
    "# Edge potential\n",
    "\n",
    "## Gradient magnitude recursive Gaussian"
   ]
  },
  {
   "cell_type": "code",
   "execution_count": 15,
   "metadata": {
    "collapsed": true
   },
   "outputs": [],
   "source": [
    "sigma_ = 2.0\n",
    "imgGauss = sitk.GradientMagnitudeRecursiveGaussian(image1=imgFilter, sigma=sigma_)"
   ]
  },
  {
   "cell_type": "code",
   "execution_count": 20,
   "metadata": {
    "collapsed": true
   },
   "outputs": [],
   "source": [
    "show_imgs(imgGauss)"
   ]
  },
  {
   "cell_type": "markdown",
   "metadata": {},
   "source": [
    "# Feature Image\n",
    "\n",
    "## Sigmoid mapping"
   ]
  },
  {
   "cell_type": "code",
   "execution_count": 16,
   "metadata": {
    "collapsed": true
   },
   "outputs": [],
   "source": [
    "K1, K2 = 20.0, 8.0"
   ]
  },
  {
   "cell_type": "code",
   "execution_count": 17,
   "metadata": {
    "collapsed": true
   },
   "outputs": [],
   "source": [
    "alpha_ = (K2 - K1)/6\n",
    "beta_ = (K1 + K2)/2\n",
    "\n",
    "sigFilt = sitk.SigmoidImageFilter()\n",
    "sigFilt.SetAlpha(alpha_)\n",
    "sigFilt.SetBeta(beta_)\n",
    "sigFilt.SetOutputMaximum(1.0)\n",
    "sigFilt.SetOutputMinimum(0.0)\n",
    "imgSigmoid = sigFilt.Execute(imgGauss)"
   ]
  },
  {
   "cell_type": "code",
   "execution_count": 19,
   "metadata": {
    "collapsed": true
   },
   "outputs": [],
   "source": [
    "show_imgs(imgSigmoid)"
   ]
  },
  {
   "cell_type": "markdown",
   "metadata": {
    "collapsed": true
   },
   "source": [
    "# Input Level Set"
   ]
  },
  {
   "cell_type": "code",
   "execution_count": 18,
   "metadata": {
    "collapsed": true
   },
   "outputs": [],
   "source": [
    "coords = [(125, 163)]"
   ]
  },
  {
   "cell_type": "code",
   "execution_count": 19,
   "metadata": {
    "collapsed": true
   },
   "outputs": [],
   "source": [
    "radii = [10]"
   ]
  },
  {
   "cell_type": "code",
   "execution_count": 20,
   "metadata": {
    "collapsed": true
   },
   "outputs": [],
   "source": [
    "seed2radius = {tuple(reversed(p[0])): p[1] for p in zip(coords, radii)}"
   ]
  },
  {
   "cell_type": "code",
   "execution_count": 21,
   "metadata": {
    "collapsed": true
   },
   "outputs": [],
   "source": [
    "initImg = input_level_set(imgSigmoid, seed2radius)"
   ]
  },
  {
   "cell_type": "code",
   "execution_count": 51,
   "metadata": {
    "collapsed": true
   },
   "outputs": [],
   "source": [
    "show_imgs(initImg)"
   ]
  },
  {
   "cell_type": "code",
   "execution_count": 59,
   "metadata": {
    "collapsed": false
   },
   "outputs": [
    {
     "data": {
      "text/plain": [
       "6"
      ]
     },
     "execution_count": 59,
     "metadata": {},
     "output_type": "execute_result"
    }
   ],
   "source": [
    "Xsig = sitk.GetArrayFromImage(imgSigmoid)\n",
    "Xinit = sitk.GetArrayFromImage(initImg)\n",
    "Xmask = np.ma.masked_where(Xinit == 0.5, Xinit)\n",
    "\n",
    "fig = plt.figure()\n",
    "ax = fig.add_subplot(111)\n",
    "tracker2 = IndexTracker2(ax, Xsig, Xmask)\n",
    "fig.canvas.mpl_connect('scroll_event', tracker2.onscroll)"
   ]
  },
  {
   "cell_type": "code",
   "execution_count": null,
   "metadata": {
    "collapsed": true
   },
   "outputs": [],
   "source": []
  }
 ],
 "metadata": {
  "kernelspec": {
   "display_name": "Python 3",
   "language": "python",
   "name": "python3"
  },
  "language_info": {
   "codemirror_mode": {
    "name": "ipython",
    "version": 3
   },
   "file_extension": ".py",
   "mimetype": "text/x-python",
   "name": "python",
   "nbconvert_exporter": "python",
   "pygments_lexer": "ipython3",
   "version": "3.4.3"
  }
 },
 "nbformat": 4,
 "nbformat_minor": 0
}
